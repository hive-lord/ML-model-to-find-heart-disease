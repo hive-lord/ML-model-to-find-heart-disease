{
 "cells": [
  {
   "cell_type": "markdown",
   "id": "6e1490c4",
   "metadata": {},
   "source": [
    "### Import required modules"
   ]
  },
  {
   "cell_type": "code",
   "execution_count": 1,
   "id": "46e0710c-e0c5-46fd-b69a-d2760ca61dd3",
   "metadata": {},
   "outputs": [],
   "source": [
    "import pandas as pd\n",
    "from sklearn.model_selection import train_test_split\n",
    "from sklearn.linear_model import LogisticRegression\n",
    "from sklearn.ensemble import RandomForestClassifier\n",
    "from sklearn.metrics import accuracy_score\n",
    "import matplotlib.pyplot as plt\n",
    "import numpy as np"
   ]
  },
  {
   "cell_type": "markdown",
   "id": "84a6d367",
   "metadata": {},
   "source": [
    "### Load the data"
   ]
  },
  {
   "cell_type": "code",
   "execution_count": 2,
   "id": "4aedb59d-e012-4daf-9cb7-f95d8083f25b",
   "metadata": {},
   "outputs": [
    {
     "data": {
      "text/html": [
       "<div>\n",
       "<style scoped>\n",
       "    .dataframe tbody tr th:only-of-type {\n",
       "        vertical-align: middle;\n",
       "    }\n",
       "\n",
       "    .dataframe tbody tr th {\n",
       "        vertical-align: top;\n",
       "    }\n",
       "\n",
       "    .dataframe thead th {\n",
       "        text-align: right;\n",
       "    }\n",
       "</style>\n",
       "<table border=\"1\" class=\"dataframe\">\n",
       "  <thead>\n",
       "    <tr style=\"text-align: right;\">\n",
       "      <th></th>\n",
       "      <th>age</th>\n",
       "      <th>sex</th>\n",
       "      <th>cp</th>\n",
       "      <th>trestbps</th>\n",
       "      <th>chol</th>\n",
       "      <th>fbs</th>\n",
       "      <th>restecg</th>\n",
       "      <th>thalach</th>\n",
       "      <th>exang</th>\n",
       "      <th>oldpeak</th>\n",
       "      <th>slope</th>\n",
       "      <th>ca</th>\n",
       "      <th>thal</th>\n",
       "      <th>diagnosis</th>\n",
       "    </tr>\n",
       "  </thead>\n",
       "  <tbody>\n",
       "    <tr>\n",
       "      <th>0</th>\n",
       "      <td>63</td>\n",
       "      <td>1</td>\n",
       "      <td>1</td>\n",
       "      <td>145</td>\n",
       "      <td>233</td>\n",
       "      <td>1</td>\n",
       "      <td>2</td>\n",
       "      <td>150</td>\n",
       "      <td>0</td>\n",
       "      <td>2.3</td>\n",
       "      <td>3</td>\n",
       "      <td>0.0</td>\n",
       "      <td>6.0</td>\n",
       "      <td>0</td>\n",
       "    </tr>\n",
       "    <tr>\n",
       "      <th>1</th>\n",
       "      <td>67</td>\n",
       "      <td>1</td>\n",
       "      <td>4</td>\n",
       "      <td>160</td>\n",
       "      <td>286</td>\n",
       "      <td>0</td>\n",
       "      <td>2</td>\n",
       "      <td>108</td>\n",
       "      <td>1</td>\n",
       "      <td>1.5</td>\n",
       "      <td>2</td>\n",
       "      <td>3.0</td>\n",
       "      <td>3.0</td>\n",
       "      <td>2</td>\n",
       "    </tr>\n",
       "    <tr>\n",
       "      <th>2</th>\n",
       "      <td>67</td>\n",
       "      <td>1</td>\n",
       "      <td>4</td>\n",
       "      <td>120</td>\n",
       "      <td>229</td>\n",
       "      <td>0</td>\n",
       "      <td>2</td>\n",
       "      <td>129</td>\n",
       "      <td>1</td>\n",
       "      <td>2.6</td>\n",
       "      <td>2</td>\n",
       "      <td>2.0</td>\n",
       "      <td>7.0</td>\n",
       "      <td>1</td>\n",
       "    </tr>\n",
       "    <tr>\n",
       "      <th>3</th>\n",
       "      <td>37</td>\n",
       "      <td>1</td>\n",
       "      <td>3</td>\n",
       "      <td>130</td>\n",
       "      <td>250</td>\n",
       "      <td>0</td>\n",
       "      <td>0</td>\n",
       "      <td>187</td>\n",
       "      <td>0</td>\n",
       "      <td>3.5</td>\n",
       "      <td>3</td>\n",
       "      <td>0.0</td>\n",
       "      <td>3.0</td>\n",
       "      <td>0</td>\n",
       "    </tr>\n",
       "    <tr>\n",
       "      <th>4</th>\n",
       "      <td>41</td>\n",
       "      <td>0</td>\n",
       "      <td>2</td>\n",
       "      <td>130</td>\n",
       "      <td>204</td>\n",
       "      <td>0</td>\n",
       "      <td>2</td>\n",
       "      <td>172</td>\n",
       "      <td>0</td>\n",
       "      <td>1.4</td>\n",
       "      <td>1</td>\n",
       "      <td>0.0</td>\n",
       "      <td>3.0</td>\n",
       "      <td>0</td>\n",
       "    </tr>\n",
       "  </tbody>\n",
       "</table>\n",
       "</div>"
      ],
      "text/plain": [
       "   age   sex   cp   trestbps   chol   fbs   restecg   thalach   exang  \\\n",
       "0   63     1    1        145    233     1         2       150       0   \n",
       "1   67     1    4        160    286     0         2       108       1   \n",
       "2   67     1    4        120    229     0         2       129       1   \n",
       "3   37     1    3        130    250     0         0       187       0   \n",
       "4   41     0    2        130    204     0         2       172       0   \n",
       "\n",
       "    oldpeak   slope   ca  thal   diagnosis  \n",
       "0       2.3       3  0.0   6.0           0  \n",
       "1       1.5       2  3.0   3.0           2  \n",
       "2       2.6       2  2.0   7.0           1  \n",
       "3       3.5       3  0.0   3.0           0  \n",
       "4       1.4       1  0.0   3.0           0  "
      ]
     },
     "execution_count": 2,
     "metadata": {},
     "output_type": "execute_result"
    }
   ],
   "source": [
    "df = pd.read_csv('heart-disease-cleveland.csv')\n",
    "df.head()"
   ]
  },
  {
   "cell_type": "markdown",
   "id": "6890a9c2",
   "metadata": {},
   "source": [
    "### Clean the data (replace '?' with NaN, convert to numeric, fill missing values with median, and show info)"
   ]
  },
  {
   "cell_type": "code",
   "execution_count": 3,
   "id": "c8e1fd42-22bc-4518-b0fe-00362fb05b61",
   "metadata": {},
   "outputs": [
    {
     "name": "stdout",
     "output_type": "stream",
     "text": [
      "--- Data types after cleaning ---\n",
      "<class 'pandas.core.frame.DataFrame'>\n",
      "RangeIndex: 303 entries, 0 to 302\n",
      "Data columns (total 14 columns):\n",
      " #   Column      Non-Null Count  Dtype  \n",
      "---  ------      --------------  -----  \n",
      " 0   age         303 non-null    int64  \n",
      " 1    sex        303 non-null    int64  \n",
      " 2    cp         303 non-null    int64  \n",
      " 3    trestbps   303 non-null    int64  \n",
      " 4    chol       303 non-null    int64  \n",
      " 5    fbs        303 non-null    int64  \n",
      " 6    restecg    303 non-null    int64  \n",
      " 7    thalach    303 non-null    int64  \n",
      " 8    exang      303 non-null    int64  \n",
      " 9    oldpeak    303 non-null    float64\n",
      " 10   slope      303 non-null    int64  \n",
      " 11   ca         303 non-null    float64\n",
      " 12   thal       303 non-null    float64\n",
      " 13   diagnosis  303 non-null    int64  \n",
      "dtypes: float64(3), int64(11)\n",
      "memory usage: 33.3 KB\n"
     ]
    }
   ],
   "source": [
    "df = df.replace('?', np.nan)\n",
    "df = df.apply(pd.to_numeric)\n",
    "df = df.fillna(df.median())\n",
    "print(\"--- Data types after cleaning ---\")\n",
    "df.info()"
   ]
  },
  {
   "cell_type": "markdown",
   "id": "dde038e0",
   "metadata": {},
   "source": [
    "### Split the data into features (X) and target (y)"
   ]
  },
  {
   "cell_type": "code",
   "execution_count": 4,
   "id": "83982b08-9dc3-498d-97f2-04c9d73cf792",
   "metadata": {},
   "outputs": [],
   "source": [
    "y = df[' diagnosis']\n",
    "X = df.drop(' diagnosis', axis=1)"
   ]
  },
  {
   "cell_type": "markdown",
   "id": "c33ff7e9",
   "metadata": {},
   "source": [
    "*Train/test split: using 20% of data for testing as per the 80-20 norm*"
   ]
  },
  {
   "cell_type": "markdown",
   "id": "de59ec1a",
   "metadata": {},
   "source": [
    "### Split the data into training and test sets"
   ]
  },
  {
   "cell_type": "code",
   "execution_count": 5,
   "id": "48bf0ea5-36e1-4231-9d88-f975da340492",
   "metadata": {},
   "outputs": [],
   "source": [
    "X_train, X_test, y_train, y_test = train_test_split(X, y, test_size=0.2, random_state=100)"
   ]
  },
  {
   "cell_type": "markdown",
   "id": "963ab914",
   "metadata": {},
   "source": [
    "### Build and evaluate the Logistic Regression model"
   ]
  },
  {
   "cell_type": "code",
   "execution_count": 8,
   "id": "49685aa9-78f1-4974-ac0a-6d4e50bffb90",
   "metadata": {},
   "outputs": [
    {
     "name": "stdout",
     "output_type": "stream",
     "text": [
      "Logistic Regression Test Accuracy: 0.7049\n"
     ]
    },
    {
     "name": "stderr",
     "output_type": "stream",
     "text": [
      "C:\\coding\\MLmodel\\venv\\Lib\\site-packages\\sklearn\\linear_model\\_logistic.py:473: ConvergenceWarning: lbfgs failed to converge after 10000 iteration(s) (status=1):\n",
      "STOP: TOTAL NO. OF ITERATIONS REACHED LIMIT\n",
      "\n",
      "Increase the number of iterations to improve the convergence (max_iter=10000).\n",
      "You might also want to scale the data as shown in:\n",
      "    https://scikit-learn.org/stable/modules/preprocessing.html\n",
      "Please also refer to the documentation for alternative solver options:\n",
      "    https://scikit-learn.org/stable/modules/linear_model.html#logistic-regression\n",
      "  n_iter_i = _check_optimize_result(\n"
     ]
    }
   ],
   "source": [
    "log_reg = LogisticRegression(max_iter=10000)\n",
    "log_reg.fit(X_train, y_train)\n",
    "y_log_reg_pred = log_reg.predict(X_test)\n",
    "log_reg_accuracy = accuracy_score(y_test, y_log_reg_pred)\n",
    "print(f'Logistic Regression Test Accuracy: {log_reg_accuracy:.4f}')"
   ]
  },
  {
   "cell_type": "markdown",
   "id": "e3e1c7ab",
   "metadata": {},
   "source": [
    "### Build and evaluate the Random Forest Classifier"
   ]
  },
  {
   "cell_type": "code",
   "execution_count": 9,
   "id": "a5b7d380-587d-42a0-b763-56fafab8ce21",
   "metadata": {},
   "outputs": [
    {
     "name": "stdout",
     "output_type": "stream",
     "text": [
      "Random Forest Classifier Test Accuracy: 0.6230\n"
     ]
    }
   ],
   "source": [
    "rf_clf = RandomForestClassifier(n_estimators=100, random_state=100)\n",
    "rf_clf.fit(X_train, y_train)\n",
    "y_rf_clf_pred = rf_clf.predict(X_test)\n",
    "rf_clf_accuracy = accuracy_score(y_test, y_rf_clf_pred)\n",
    "print(f'Random Forest Classifier Test Accuracy: {rf_clf_accuracy:.4f}')"
   ]
  },
  {
   "cell_type": "markdown",
   "id": "57dc765f",
   "metadata": {},
   "source": [
    "### noe we are plotting the importances from the Random Forest model"
   ]
  },
  {
   "cell_type": "code",
   "execution_count": 17,
   "id": "770c5015-d90a-47db-a42f-7f2c1ba00768",
   "metadata": {},
   "outputs": [
    {
     "data": {
      "image/png": "[encoded data removed]",
      "text/plain": [
       "<Figure size 1000x600 with 1 Axes>"
      ]
     },
     "metadata": {},
     "output_type": "display_data"
    }
   ],
   "source": [
    "importances = rf_clf.feature_importances_\n",
    "feature_names = X.columns\n",
    "feature_importance_series = pd.Series(importances, index=feature_names).sort_values(ascending=False)\n",
    "plt.figure(figsize=(10, 6))\n",
    "feature_importance_series.plot(kind='pie')\n",
    "plt.title('Feature Importances from Random Forest')\n",
    "plt.ylabel('Importance')\n",
    "plt.show()"
   ]
  },
  {
   "cell_type": "markdown",
   "id": "66f00b02",
   "metadata": {},
   "source": [
    "##performance on the 20% test set ie this is the overall accuracy of my machine learning model"
   ]
  },
  {
   "cell_type": "code",
   "execution_count": 13,
   "id": "e9cbf11b-d799-4a3f-bc3e-6df407aa961f",
   "metadata": {},
   "outputs": [
    {
     "name": "stdout",
     "output_type": "stream",
     "text": [
      "\n",
      "--- Performance on the 20% TEST Set (for comparison) ---\n",
      "Logistic Regression Test Accuracy: 0.7049\n",
      "Random Forest Test Accuracy: 0.6230\n"
     ]
    }
   ],
   "source": [
    "print(f'\\n--- Performance on the 20% TEST Set (for comparison) ---')\n",
    "print(f'Logistic Regression Test Accuracy: {log_reg_accuracy:.4f}')\n",
    "print(f'Random Forest Test Accuracy: {rf_clf_accuracy:.4f}')"
   ]
  }
 ],
 "metadata": {
  "kernelspec": {
   "display_name": "Python 3 (ipykernel)",
   "language": "python",
   "name": "python3"
  },
  "language_info": {
   "codemirror_mode": {
    "name": "ipython",
    "version": 3
   },
   "file_extension": ".py",
   "mimetype": "text/x-python",
   "name": "python",
   "nbconvert_exporter": "python",
   "pygments_lexer": "ipython3",
   "version": "3.13.7"
  }
 },
 "nbformat": 4,
 "nbformat_minor": 5
}
